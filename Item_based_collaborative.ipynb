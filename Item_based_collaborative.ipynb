{
 "cells": [
  {
   "cell_type": "markdown",
   "metadata": {},
   "source": [
    "## Movie Recommendation Using Collaborative Filtering"
   ]
  },
  {
   "cell_type": "code",
   "execution_count": 1,
   "metadata": {
    "executionInfo": {
     "elapsed": 39,
     "status": "ok",
     "timestamp": 1675615328063,
     "user": {
      "displayName": "Abhishek Nishad",
      "userId": "16216419476032732244"
     },
     "user_tz": -330
    },
    "id": "xxfgVDGdrunE"
   },
   "outputs": [],
   "source": [
    "import pandas as pd\n",
    "import numpy as np\n",
    "import seaborn as sns\n",
    "import matplotlib.pyplot as plt"
   ]
  },
  {
   "cell_type": "code",
   "execution_count": 2,
   "metadata": {
    "executionInfo": {
     "elapsed": 31,
     "status": "ok",
     "timestamp": 1675615329369,
     "user": {
      "displayName": "Abhishek Nishad",
      "userId": "16216419476032732244"
     },
     "user_tz": -330
    },
    "id": "DyGzRx0EvRoZ"
   },
   "outputs": [],
   "source": [
    "import warnings\n",
    "warnings.simplefilter('ignore')"
   ]
  },
  {
   "cell_type": "code",
   "execution_count": 3,
   "metadata": {
    "executionInfo": {
     "elapsed": 43,
     "status": "ok",
     "timestamp": 1675615329381,
     "user": {
      "displayName": "Abhishek Nishad",
      "userId": "16216419476032732244"
     },
     "user_tz": -330
    },
    "id": "8Xfvy3_QvWRz"
   },
   "outputs": [],
   "source": [
    "movie_df=pd.read_csv('movies.dat',delimiter='::',encoding='latin1',names=['movie_id','movie_name','Genre'])"
   ]
  },
  {
   "cell_type": "code",
   "execution_count": 4,
   "metadata": {
    "colab": {
     "base_uri": "https://localhost:8080/",
     "height": 206
    },
    "executionInfo": {
     "elapsed": 42,
     "status": "ok",
     "timestamp": 1675615329382,
     "user": {
      "displayName": "Abhishek Nishad",
      "userId": "16216419476032732244"
     },
     "user_tz": -330
    },
    "id": "dkjOyv0Yvlxv",
    "outputId": "851f4093-3347-42ff-9b8f-e60630589e13"
   },
   "outputs": [
    {
     "data": {
      "text/html": [
       "<div>\n",
       "<style scoped>\n",
       "    .dataframe tbody tr th:only-of-type {\n",
       "        vertical-align: middle;\n",
       "    }\n",
       "\n",
       "    .dataframe tbody tr th {\n",
       "        vertical-align: top;\n",
       "    }\n",
       "\n",
       "    .dataframe thead th {\n",
       "        text-align: right;\n",
       "    }\n",
       "</style>\n",
       "<table border=\"1\" class=\"dataframe\">\n",
       "  <thead>\n",
       "    <tr style=\"text-align: right;\">\n",
       "      <th></th>\n",
       "      <th>movie_id</th>\n",
       "      <th>movie_name</th>\n",
       "      <th>Genre</th>\n",
       "    </tr>\n",
       "  </thead>\n",
       "  <tbody>\n",
       "    <tr>\n",
       "      <th>0</th>\n",
       "      <td>1</td>\n",
       "      <td>Toy Story (1995)</td>\n",
       "      <td>Animation|Children's|Comedy</td>\n",
       "    </tr>\n",
       "    <tr>\n",
       "      <th>1</th>\n",
       "      <td>2</td>\n",
       "      <td>Jumanji (1995)</td>\n",
       "      <td>Adventure|Children's|Fantasy</td>\n",
       "    </tr>\n",
       "    <tr>\n",
       "      <th>2</th>\n",
       "      <td>3</td>\n",
       "      <td>Grumpier Old Men (1995)</td>\n",
       "      <td>Comedy|Romance</td>\n",
       "    </tr>\n",
       "    <tr>\n",
       "      <th>3</th>\n",
       "      <td>4</td>\n",
       "      <td>Waiting to Exhale (1995)</td>\n",
       "      <td>Comedy|Drama</td>\n",
       "    </tr>\n",
       "    <tr>\n",
       "      <th>4</th>\n",
       "      <td>5</td>\n",
       "      <td>Father of the Bride Part II (1995)</td>\n",
       "      <td>Comedy</td>\n",
       "    </tr>\n",
       "  </tbody>\n",
       "</table>\n",
       "</div>"
      ],
      "text/plain": [
       "   movie_id                          movie_name                         Genre\n",
       "0         1                    Toy Story (1995)   Animation|Children's|Comedy\n",
       "1         2                      Jumanji (1995)  Adventure|Children's|Fantasy\n",
       "2         3             Grumpier Old Men (1995)                Comedy|Romance\n",
       "3         4            Waiting to Exhale (1995)                  Comedy|Drama\n",
       "4         5  Father of the Bride Part II (1995)                        Comedy"
      ]
     },
     "execution_count": 4,
     "metadata": {},
     "output_type": "execute_result"
    }
   ],
   "source": [
    "movie_df.head()"
   ]
  },
  {
   "cell_type": "code",
   "execution_count": 5,
   "metadata": {
    "executionInfo": {
     "elapsed": 5971,
     "status": "ok",
     "timestamp": 1675615335316,
     "user": {
      "displayName": "Abhishek Nishad",
      "userId": "16216419476032732244"
     },
     "user_tz": -330
    },
    "id": "ZafKgMEcwDqo"
   },
   "outputs": [],
   "source": [
    "ratings_data=pd.read_csv('ratings.dat',delimiter='::',encoding='Latin1',names=['user_id','movie_id','ratings','timestamp'])"
   ]
  },
  {
   "cell_type": "code",
   "execution_count": 6,
   "metadata": {
    "colab": {
     "base_uri": "https://localhost:8080/",
     "height": 112
    },
    "executionInfo": {
     "elapsed": 68,
     "status": "ok",
     "timestamp": 1675615335317,
     "user": {
      "displayName": "Abhishek Nishad",
      "userId": "16216419476032732244"
     },
     "user_tz": -330
    },
    "id": "5EXiQJG0xTXS",
    "outputId": "2eb4710b-5c76-43be-beb3-efb8cd76567a"
   },
   "outputs": [
    {
     "data": {
      "text/html": [
       "<div>\n",
       "<style scoped>\n",
       "    .dataframe tbody tr th:only-of-type {\n",
       "        vertical-align: middle;\n",
       "    }\n",
       "\n",
       "    .dataframe tbody tr th {\n",
       "        vertical-align: top;\n",
       "    }\n",
       "\n",
       "    .dataframe thead th {\n",
       "        text-align: right;\n",
       "    }\n",
       "</style>\n",
       "<table border=\"1\" class=\"dataframe\">\n",
       "  <thead>\n",
       "    <tr style=\"text-align: right;\">\n",
       "      <th></th>\n",
       "      <th>user_id</th>\n",
       "      <th>movie_id</th>\n",
       "      <th>ratings</th>\n",
       "      <th>timestamp</th>\n",
       "    </tr>\n",
       "  </thead>\n",
       "  <tbody>\n",
       "    <tr>\n",
       "      <th>0</th>\n",
       "      <td>1</td>\n",
       "      <td>1193</td>\n",
       "      <td>5</td>\n",
       "      <td>978300760</td>\n",
       "    </tr>\n",
       "    <tr>\n",
       "      <th>1</th>\n",
       "      <td>1</td>\n",
       "      <td>661</td>\n",
       "      <td>3</td>\n",
       "      <td>978302109</td>\n",
       "    </tr>\n",
       "  </tbody>\n",
       "</table>\n",
       "</div>"
      ],
      "text/plain": [
       "   user_id  movie_id  ratings  timestamp\n",
       "0        1      1193        5  978300760\n",
       "1        1       661        3  978302109"
      ]
     },
     "execution_count": 6,
     "metadata": {},
     "output_type": "execute_result"
    }
   ],
   "source": [
    "ratings_data.head(2)"
   ]
  },
  {
   "cell_type": "code",
   "execution_count": 7,
   "metadata": {
    "executionInfo": {
     "elapsed": 73,
     "status": "ok",
     "timestamp": 1675615335325,
     "user": {
      "displayName": "Abhishek Nishad",
      "userId": "16216419476032732244"
     },
     "user_tz": -330
    },
    "id": "xoCLFWERxWxE"
   },
   "outputs": [],
   "source": [
    "users_data=pd.read_csv('users.dat',encoding='latin1',delimiter='::',names=['user_id','gender','age','occupation','zipcode'])"
   ]
  },
  {
   "cell_type": "code",
   "execution_count": 8,
   "metadata": {
    "colab": {
     "base_uri": "https://localhost:8080/",
     "height": 112
    },
    "executionInfo": {
     "elapsed": 919,
     "status": "ok",
     "timestamp": 1675615336173,
     "user": {
      "displayName": "Abhishek Nishad",
      "userId": "16216419476032732244"
     },
     "user_tz": -330
    },
    "id": "-jcENaXdyJUu",
    "outputId": "d8c2e629-747f-4bad-dad2-ab9fda344a96"
   },
   "outputs": [
    {
     "data": {
      "text/html": [
       "<div>\n",
       "<style scoped>\n",
       "    .dataframe tbody tr th:only-of-type {\n",
       "        vertical-align: middle;\n",
       "    }\n",
       "\n",
       "    .dataframe tbody tr th {\n",
       "        vertical-align: top;\n",
       "    }\n",
       "\n",
       "    .dataframe thead th {\n",
       "        text-align: right;\n",
       "    }\n",
       "</style>\n",
       "<table border=\"1\" class=\"dataframe\">\n",
       "  <thead>\n",
       "    <tr style=\"text-align: right;\">\n",
       "      <th></th>\n",
       "      <th>user_id</th>\n",
       "      <th>gender</th>\n",
       "      <th>age</th>\n",
       "      <th>occupation</th>\n",
       "      <th>zipcode</th>\n",
       "    </tr>\n",
       "  </thead>\n",
       "  <tbody>\n",
       "    <tr>\n",
       "      <th>0</th>\n",
       "      <td>1</td>\n",
       "      <td>F</td>\n",
       "      <td>1</td>\n",
       "      <td>10</td>\n",
       "      <td>48067</td>\n",
       "    </tr>\n",
       "    <tr>\n",
       "      <th>1</th>\n",
       "      <td>2</td>\n",
       "      <td>M</td>\n",
       "      <td>56</td>\n",
       "      <td>16</td>\n",
       "      <td>70072</td>\n",
       "    </tr>\n",
       "  </tbody>\n",
       "</table>\n",
       "</div>"
      ],
      "text/plain": [
       "   user_id gender  age  occupation zipcode\n",
       "0        1      F    1          10   48067\n",
       "1        2      M   56          16   70072"
      ]
     },
     "execution_count": 8,
     "metadata": {},
     "output_type": "execute_result"
    }
   ],
   "source": [
    "users_data.head(2)"
   ]
  },
  {
   "cell_type": "code",
   "execution_count": 9,
   "metadata": {
    "colab": {
     "base_uri": "https://localhost:8080/"
    },
    "executionInfo": {
     "elapsed": 75,
     "status": "ok",
     "timestamp": 1675615336174,
     "user": {
      "displayName": "Abhishek Nishad",
      "userId": "16216419476032732244"
     },
     "user_tz": -330
    },
    "id": "Vdh2B-6_yOPf",
    "outputId": "142d6669-8c3f-49aa-f383-11272bcdcbc4"
   },
   "outputs": [
    {
     "data": {
      "text/plain": [
       "user_id       6040\n",
       "gender           2\n",
       "age              7\n",
       "occupation      21\n",
       "zipcode       3439\n",
       "dtype: int64"
      ]
     },
     "execution_count": 9,
     "metadata": {},
     "output_type": "execute_result"
    }
   ],
   "source": [
    "users_data.nunique()"
   ]
  },
  {
   "cell_type": "code",
   "execution_count": 10,
   "metadata": {
    "colab": {
     "base_uri": "https://localhost:8080/"
    },
    "executionInfo": {
     "elapsed": 73,
     "status": "ok",
     "timestamp": 1675615336177,
     "user": {
      "displayName": "Abhishek Nishad",
      "userId": "16216419476032732244"
     },
     "user_tz": -330
    },
    "id": "7tYBA8sEyTTt",
    "outputId": "dbe52159-ed61-4a32-a1f8-49103ded033e"
   },
   "outputs": [
    {
     "data": {
      "text/plain": [
       "25    2096\n",
       "35    1193\n",
       "18    1103\n",
       "45     550\n",
       "50     496\n",
       "56     380\n",
       "1      222\n",
       "Name: age, dtype: int64"
      ]
     },
     "execution_count": 10,
     "metadata": {},
     "output_type": "execute_result"
    }
   ],
   "source": [
    "users_data.age.value_counts()"
   ]
  },
  {
   "cell_type": "code",
   "execution_count": 11,
   "metadata": {
    "colab": {
     "base_uri": "https://localhost:8080/"
    },
    "executionInfo": {
     "elapsed": 77,
     "status": "ok",
     "timestamp": 1675615336184,
     "user": {
      "displayName": "Abhishek Nishad",
      "userId": "16216419476032732244"
     },
     "user_tz": -330
    },
    "id": "SRhT1Bx1yhnp",
    "outputId": "a9e0c254-3ec9-41dc-94cd-cd983167d562"
   },
   "outputs": [
    {
     "data": {
      "text/plain": [
       "(6040, 5)"
      ]
     },
     "execution_count": 11,
     "metadata": {},
     "output_type": "execute_result"
    }
   ],
   "source": [
    "users_data.shape"
   ]
  },
  {
   "cell_type": "code",
   "execution_count": 12,
   "metadata": {
    "colab": {
     "base_uri": "https://localhost:8080/"
    },
    "executionInfo": {
     "elapsed": 78,
     "status": "ok",
     "timestamp": 1675615336189,
     "user": {
      "displayName": "Abhishek Nishad",
      "userId": "16216419476032732244"
     },
     "user_tz": -330
    },
    "id": "O7MVORQ2yqQP",
    "outputId": "68421231-71fb-48e7-a86e-ffd17ef01122"
   },
   "outputs": [
    {
     "data": {
      "text/plain": [
       "(1000209, 4)"
      ]
     },
     "execution_count": 12,
     "metadata": {},
     "output_type": "execute_result"
    }
   ],
   "source": [
    "ratings_data.shape"
   ]
  },
  {
   "cell_type": "code",
   "execution_count": 13,
   "metadata": {
    "colab": {
     "base_uri": "https://localhost:8080/"
    },
    "executionInfo": {
     "elapsed": 72,
     "status": "ok",
     "timestamp": 1675615336191,
     "user": {
      "displayName": "Abhishek Nishad",
      "userId": "16216419476032732244"
     },
     "user_tz": -330
    },
    "id": "fdCMHT1pyvFl",
    "outputId": "63276fe2-83b5-4167-d60e-5a72314f03f9"
   },
   "outputs": [
    {
     "data": {
      "text/plain": [
       "(3883, 3)"
      ]
     },
     "execution_count": 13,
     "metadata": {},
     "output_type": "execute_result"
    }
   ],
   "source": [
    "movie_df.shape"
   ]
  },
  {
   "cell_type": "code",
   "execution_count": 14,
   "metadata": {},
   "outputs": [],
   "source": [
    "## Merging the Movie_df and Ratings data"
   ]
  },
  {
   "cell_type": "code",
   "execution_count": 15,
   "metadata": {
    "executionInfo": {
     "elapsed": 71,
     "status": "ok",
     "timestamp": 1675615336195,
     "user": {
      "displayName": "Abhishek Nishad",
      "userId": "16216419476032732244"
     },
     "user_tz": -330
    },
    "id": "DqKDddiFyxBi"
   },
   "outputs": [],
   "source": [
    "movie_rating_df=pd.merge(movie_df,ratings_data,on='movie_id')"
   ]
  },
  {
   "cell_type": "code",
   "execution_count": 16,
   "metadata": {
    "colab": {
     "base_uri": "https://localhost:8080/",
     "height": 206
    },
    "executionInfo": {
     "elapsed": 74,
     "status": "ok",
     "timestamp": 1675615336200,
     "user": {
      "displayName": "Abhishek Nishad",
      "userId": "16216419476032732244"
     },
     "user_tz": -330
    },
    "id": "mFeYp2KH0FyS",
    "outputId": "0b593696-527e-4bf7-bd98-22625c376165"
   },
   "outputs": [
    {
     "data": {
      "text/html": [
       "<div>\n",
       "<style scoped>\n",
       "    .dataframe tbody tr th:only-of-type {\n",
       "        vertical-align: middle;\n",
       "    }\n",
       "\n",
       "    .dataframe tbody tr th {\n",
       "        vertical-align: top;\n",
       "    }\n",
       "\n",
       "    .dataframe thead th {\n",
       "        text-align: right;\n",
       "    }\n",
       "</style>\n",
       "<table border=\"1\" class=\"dataframe\">\n",
       "  <thead>\n",
       "    <tr style=\"text-align: right;\">\n",
       "      <th></th>\n",
       "      <th>movie_id</th>\n",
       "      <th>movie_name</th>\n",
       "      <th>Genre</th>\n",
       "      <th>user_id</th>\n",
       "      <th>ratings</th>\n",
       "      <th>timestamp</th>\n",
       "    </tr>\n",
       "  </thead>\n",
       "  <tbody>\n",
       "    <tr>\n",
       "      <th>0</th>\n",
       "      <td>1</td>\n",
       "      <td>Toy Story (1995)</td>\n",
       "      <td>Animation|Children's|Comedy</td>\n",
       "      <td>1</td>\n",
       "      <td>5</td>\n",
       "      <td>978824268</td>\n",
       "    </tr>\n",
       "    <tr>\n",
       "      <th>1</th>\n",
       "      <td>1</td>\n",
       "      <td>Toy Story (1995)</td>\n",
       "      <td>Animation|Children's|Comedy</td>\n",
       "      <td>6</td>\n",
       "      <td>4</td>\n",
       "      <td>978237008</td>\n",
       "    </tr>\n",
       "    <tr>\n",
       "      <th>2</th>\n",
       "      <td>1</td>\n",
       "      <td>Toy Story (1995)</td>\n",
       "      <td>Animation|Children's|Comedy</td>\n",
       "      <td>8</td>\n",
       "      <td>4</td>\n",
       "      <td>978233496</td>\n",
       "    </tr>\n",
       "    <tr>\n",
       "      <th>3</th>\n",
       "      <td>1</td>\n",
       "      <td>Toy Story (1995)</td>\n",
       "      <td>Animation|Children's|Comedy</td>\n",
       "      <td>9</td>\n",
       "      <td>5</td>\n",
       "      <td>978225952</td>\n",
       "    </tr>\n",
       "    <tr>\n",
       "      <th>4</th>\n",
       "      <td>1</td>\n",
       "      <td>Toy Story (1995)</td>\n",
       "      <td>Animation|Children's|Comedy</td>\n",
       "      <td>10</td>\n",
       "      <td>5</td>\n",
       "      <td>978226474</td>\n",
       "    </tr>\n",
       "  </tbody>\n",
       "</table>\n",
       "</div>"
      ],
      "text/plain": [
       "   movie_id        movie_name                        Genre  user_id  ratings  \\\n",
       "0         1  Toy Story (1995)  Animation|Children's|Comedy        1        5   \n",
       "1         1  Toy Story (1995)  Animation|Children's|Comedy        6        4   \n",
       "2         1  Toy Story (1995)  Animation|Children's|Comedy        8        4   \n",
       "3         1  Toy Story (1995)  Animation|Children's|Comedy        9        5   \n",
       "4         1  Toy Story (1995)  Animation|Children's|Comedy       10        5   \n",
       "\n",
       "   timestamp  \n",
       "0  978824268  \n",
       "1  978237008  \n",
       "2  978233496  \n",
       "3  978225952  \n",
       "4  978226474  "
      ]
     },
     "execution_count": 16,
     "metadata": {},
     "output_type": "execute_result"
    }
   ],
   "source": [
    "movie_rating_df.head()"
   ]
  },
  {
   "cell_type": "code",
   "execution_count": 17,
   "metadata": {
    "colab": {
     "base_uri": "https://localhost:8080/"
    },
    "executionInfo": {
     "elapsed": 79,
     "status": "ok",
     "timestamp": 1675615336207,
     "user": {
      "displayName": "Abhishek Nishad",
      "userId": "16216419476032732244"
     },
     "user_tz": -330
    },
    "id": "tk1jqD6M0g0f",
    "outputId": "8407a536-3509-4b08-b973-599e2193f543"
   },
   "outputs": [
    {
     "data": {
      "text/plain": [
       "(1000209, 6)"
      ]
     },
     "execution_count": 17,
     "metadata": {},
     "output_type": "execute_result"
    }
   ],
   "source": [
    "movie_rating_df.shape"
   ]
  },
  {
   "cell_type": "code",
   "execution_count": 18,
   "metadata": {
    "executionInfo": {
     "elapsed": 72,
     "status": "ok",
     "timestamp": 1675615336208,
     "user": {
      "displayName": "Abhishek Nishad",
      "userId": "16216419476032732244"
     },
     "user_tz": -330
    },
    "id": "_RpGRtKu0oQp"
   },
   "outputs": [],
   "source": [
    "movie_rating_df.drop('timestamp',axis=1,inplace=True)"
   ]
  },
  {
   "cell_type": "code",
   "execution_count": 19,
   "metadata": {
    "colab": {
     "base_uri": "https://localhost:8080/",
     "height": 206
    },
    "executionInfo": {
     "elapsed": 681,
     "status": "ok",
     "timestamp": 1675615336818,
     "user": {
      "displayName": "Abhishek Nishad",
      "userId": "16216419476032732244"
     },
     "user_tz": -330
    },
    "id": "ae0zIDz20v8s",
    "outputId": "e5beaf49-ab55-445b-f157-6c7361fb85cc"
   },
   "outputs": [
    {
     "data": {
      "text/html": [
       "<div>\n",
       "<style scoped>\n",
       "    .dataframe tbody tr th:only-of-type {\n",
       "        vertical-align: middle;\n",
       "    }\n",
       "\n",
       "    .dataframe tbody tr th {\n",
       "        vertical-align: top;\n",
       "    }\n",
       "\n",
       "    .dataframe thead th {\n",
       "        text-align: right;\n",
       "    }\n",
       "</style>\n",
       "<table border=\"1\" class=\"dataframe\">\n",
       "  <thead>\n",
       "    <tr style=\"text-align: right;\">\n",
       "      <th></th>\n",
       "      <th>movie_id</th>\n",
       "      <th>movie_name</th>\n",
       "      <th>Genre</th>\n",
       "      <th>user_id</th>\n",
       "      <th>ratings</th>\n",
       "    </tr>\n",
       "  </thead>\n",
       "  <tbody>\n",
       "    <tr>\n",
       "      <th>0</th>\n",
       "      <td>1</td>\n",
       "      <td>Toy Story (1995)</td>\n",
       "      <td>Animation|Children's|Comedy</td>\n",
       "      <td>1</td>\n",
       "      <td>5</td>\n",
       "    </tr>\n",
       "    <tr>\n",
       "      <th>1</th>\n",
       "      <td>1</td>\n",
       "      <td>Toy Story (1995)</td>\n",
       "      <td>Animation|Children's|Comedy</td>\n",
       "      <td>6</td>\n",
       "      <td>4</td>\n",
       "    </tr>\n",
       "    <tr>\n",
       "      <th>2</th>\n",
       "      <td>1</td>\n",
       "      <td>Toy Story (1995)</td>\n",
       "      <td>Animation|Children's|Comedy</td>\n",
       "      <td>8</td>\n",
       "      <td>4</td>\n",
       "    </tr>\n",
       "    <tr>\n",
       "      <th>3</th>\n",
       "      <td>1</td>\n",
       "      <td>Toy Story (1995)</td>\n",
       "      <td>Animation|Children's|Comedy</td>\n",
       "      <td>9</td>\n",
       "      <td>5</td>\n",
       "    </tr>\n",
       "    <tr>\n",
       "      <th>4</th>\n",
       "      <td>1</td>\n",
       "      <td>Toy Story (1995)</td>\n",
       "      <td>Animation|Children's|Comedy</td>\n",
       "      <td>10</td>\n",
       "      <td>5</td>\n",
       "    </tr>\n",
       "  </tbody>\n",
       "</table>\n",
       "</div>"
      ],
      "text/plain": [
       "   movie_id        movie_name                        Genre  user_id  ratings\n",
       "0         1  Toy Story (1995)  Animation|Children's|Comedy        1        5\n",
       "1         1  Toy Story (1995)  Animation|Children's|Comedy        6        4\n",
       "2         1  Toy Story (1995)  Animation|Children's|Comedy        8        4\n",
       "3         1  Toy Story (1995)  Animation|Children's|Comedy        9        5\n",
       "4         1  Toy Story (1995)  Animation|Children's|Comedy       10        5"
      ]
     },
     "execution_count": 19,
     "metadata": {},
     "output_type": "execute_result"
    }
   ],
   "source": [
    "movie_rating_df.head()"
   ]
  },
  {
   "cell_type": "code",
   "execution_count": 20,
   "metadata": {
    "colab": {
     "base_uri": "https://localhost:8080/",
     "height": 206
    },
    "executionInfo": {
     "elapsed": 59,
     "status": "ok",
     "timestamp": 1675615336820,
     "user": {
      "displayName": "Abhishek Nishad",
      "userId": "16216419476032732244"
     },
     "user_tz": -330
    },
    "id": "VC3pnhGo0x6r",
    "outputId": "7d7f8e9e-ffb1-4429-9601-40c81514af0f"
   },
   "outputs": [
    {
     "data": {
      "text/html": [
       "<div>\n",
       "<style scoped>\n",
       "    .dataframe tbody tr th:only-of-type {\n",
       "        vertical-align: middle;\n",
       "    }\n",
       "\n",
       "    .dataframe tbody tr th {\n",
       "        vertical-align: top;\n",
       "    }\n",
       "\n",
       "    .dataframe thead th {\n",
       "        text-align: right;\n",
       "    }\n",
       "</style>\n",
       "<table border=\"1\" class=\"dataframe\">\n",
       "  <thead>\n",
       "    <tr style=\"text-align: right;\">\n",
       "      <th></th>\n",
       "      <th>movie_id</th>\n",
       "      <th>movie_name</th>\n",
       "      <th>Genre</th>\n",
       "      <th>user_id</th>\n",
       "      <th>ratings</th>\n",
       "    </tr>\n",
       "  </thead>\n",
       "  <tbody>\n",
       "    <tr>\n",
       "      <th>797160</th>\n",
       "      <td>2968</td>\n",
       "      <td>Time Bandits (1981)</td>\n",
       "      <td>Adventure|Fantasy|Sci-Fi</td>\n",
       "      <td>5624</td>\n",
       "      <td>2</td>\n",
       "    </tr>\n",
       "    <tr>\n",
       "      <th>470101</th>\n",
       "      <td>1673</td>\n",
       "      <td>Boogie Nights (1997)</td>\n",
       "      <td>Drama</td>\n",
       "      <td>2926</td>\n",
       "      <td>5</td>\n",
       "    </tr>\n",
       "    <tr>\n",
       "      <th>680829</th>\n",
       "      <td>2511</td>\n",
       "      <td>Long Goodbye, The (1973)</td>\n",
       "      <td>Crime</td>\n",
       "      <td>3841</td>\n",
       "      <td>3</td>\n",
       "    </tr>\n",
       "    <tr>\n",
       "      <th>557994</th>\n",
       "      <td>2034</td>\n",
       "      <td>Black Hole, The (1979)</td>\n",
       "      <td>Sci-Fi</td>\n",
       "      <td>1298</td>\n",
       "      <td>3</td>\n",
       "    </tr>\n",
       "    <tr>\n",
       "      <th>873275</th>\n",
       "      <td>3271</td>\n",
       "      <td>Of Mice and Men (1992)</td>\n",
       "      <td>Drama</td>\n",
       "      <td>4235</td>\n",
       "      <td>4</td>\n",
       "    </tr>\n",
       "  </tbody>\n",
       "</table>\n",
       "</div>"
      ],
      "text/plain": [
       "        movie_id                movie_name                     Genre  user_id  \\\n",
       "797160      2968       Time Bandits (1981)  Adventure|Fantasy|Sci-Fi     5624   \n",
       "470101      1673      Boogie Nights (1997)                     Drama     2926   \n",
       "680829      2511  Long Goodbye, The (1973)                     Crime     3841   \n",
       "557994      2034    Black Hole, The (1979)                    Sci-Fi     1298   \n",
       "873275      3271    Of Mice and Men (1992)                     Drama     4235   \n",
       "\n",
       "        ratings  \n",
       "797160        2  \n",
       "470101        5  \n",
       "680829        3  \n",
       "557994        3  \n",
       "873275        4  "
      ]
     },
     "execution_count": 20,
     "metadata": {},
     "output_type": "execute_result"
    }
   ],
   "source": [
    "movie_rating_df.sample(5)"
   ]
  },
  {
   "cell_type": "code",
   "execution_count": 21,
   "metadata": {
    "executionInfo": {
     "elapsed": 58,
     "status": "ok",
     "timestamp": 1675615336821,
     "user": {
      "displayName": "Abhishek Nishad",
      "userId": "16216419476032732244"
     },
     "user_tz": -330
    },
    "id": "oHfYZ4f70-IN"
   },
   "outputs": [],
   "source": [
    "movie_rating_df=movie_rating_df.drop('Genre',axis=1)"
   ]
  },
  {
   "cell_type": "code",
   "execution_count": 22,
   "metadata": {
    "colab": {
     "base_uri": "https://localhost:8080/"
    },
    "executionInfo": {
     "elapsed": 56,
     "status": "ok",
     "timestamp": 1675615336822,
     "user": {
      "displayName": "Abhishek Nishad",
      "userId": "16216419476032732244"
     },
     "user_tz": -330
    },
    "id": "-FLbJMuy1TfV",
    "outputId": "dc5a6c17-c674-4d65-93ec-d4b7341acef0"
   },
   "outputs": [
    {
     "data": {
      "text/plain": [
       "(1000209, 4)"
      ]
     },
     "execution_count": 22,
     "metadata": {},
     "output_type": "execute_result"
    }
   ],
   "source": [
    "movie_rating_df.shape"
   ]
  },
  {
   "cell_type": "code",
   "execution_count": 23,
   "metadata": {
    "colab": {
     "base_uri": "https://localhost:8080/",
     "height": 300
    },
    "executionInfo": {
     "elapsed": 53,
     "status": "ok",
     "timestamp": 1675615336823,
     "user": {
      "displayName": "Abhishek Nishad",
      "userId": "16216419476032732244"
     },
     "user_tz": -330
    },
    "id": "6-Vzq5AG1VhR",
    "outputId": "8fa0df0c-bda3-4935-aa39-1a37397133a8"
   },
   "outputs": [
    {
     "data": {
      "text/html": [
       "<div>\n",
       "<style scoped>\n",
       "    .dataframe tbody tr th:only-of-type {\n",
       "        vertical-align: middle;\n",
       "    }\n",
       "\n",
       "    .dataframe tbody tr th {\n",
       "        vertical-align: top;\n",
       "    }\n",
       "\n",
       "    .dataframe thead th {\n",
       "        text-align: right;\n",
       "    }\n",
       "</style>\n",
       "<table border=\"1\" class=\"dataframe\">\n",
       "  <thead>\n",
       "    <tr style=\"text-align: right;\">\n",
       "      <th></th>\n",
       "      <th>movie_id</th>\n",
       "      <th>user_id</th>\n",
       "      <th>ratings</th>\n",
       "    </tr>\n",
       "  </thead>\n",
       "  <tbody>\n",
       "    <tr>\n",
       "      <th>count</th>\n",
       "      <td>1.000209e+06</td>\n",
       "      <td>1.000209e+06</td>\n",
       "      <td>1.000209e+06</td>\n",
       "    </tr>\n",
       "    <tr>\n",
       "      <th>mean</th>\n",
       "      <td>1.865540e+03</td>\n",
       "      <td>3.024512e+03</td>\n",
       "      <td>3.581564e+00</td>\n",
       "    </tr>\n",
       "    <tr>\n",
       "      <th>std</th>\n",
       "      <td>1.096041e+03</td>\n",
       "      <td>1.728413e+03</td>\n",
       "      <td>1.117102e+00</td>\n",
       "    </tr>\n",
       "    <tr>\n",
       "      <th>min</th>\n",
       "      <td>1.000000e+00</td>\n",
       "      <td>1.000000e+00</td>\n",
       "      <td>1.000000e+00</td>\n",
       "    </tr>\n",
       "    <tr>\n",
       "      <th>25%</th>\n",
       "      <td>1.030000e+03</td>\n",
       "      <td>1.506000e+03</td>\n",
       "      <td>3.000000e+00</td>\n",
       "    </tr>\n",
       "    <tr>\n",
       "      <th>50%</th>\n",
       "      <td>1.835000e+03</td>\n",
       "      <td>3.070000e+03</td>\n",
       "      <td>4.000000e+00</td>\n",
       "    </tr>\n",
       "    <tr>\n",
       "      <th>75%</th>\n",
       "      <td>2.770000e+03</td>\n",
       "      <td>4.476000e+03</td>\n",
       "      <td>4.000000e+00</td>\n",
       "    </tr>\n",
       "    <tr>\n",
       "      <th>max</th>\n",
       "      <td>3.952000e+03</td>\n",
       "      <td>6.040000e+03</td>\n",
       "      <td>5.000000e+00</td>\n",
       "    </tr>\n",
       "  </tbody>\n",
       "</table>\n",
       "</div>"
      ],
      "text/plain": [
       "           movie_id       user_id       ratings\n",
       "count  1.000209e+06  1.000209e+06  1.000209e+06\n",
       "mean   1.865540e+03  3.024512e+03  3.581564e+00\n",
       "std    1.096041e+03  1.728413e+03  1.117102e+00\n",
       "min    1.000000e+00  1.000000e+00  1.000000e+00\n",
       "25%    1.030000e+03  1.506000e+03  3.000000e+00\n",
       "50%    1.835000e+03  3.070000e+03  4.000000e+00\n",
       "75%    2.770000e+03  4.476000e+03  4.000000e+00\n",
       "max    3.952000e+03  6.040000e+03  5.000000e+00"
      ]
     },
     "execution_count": 23,
     "metadata": {},
     "output_type": "execute_result"
    }
   ],
   "source": [
    "movie_rating_df.describe()"
   ]
  },
  {
   "cell_type": "code",
   "execution_count": 24,
   "metadata": {},
   "outputs": [],
   "source": [
    "## Creating Dataframe with average ratings of movies"
   ]
  },
  {
   "cell_type": "code",
   "execution_count": 25,
   "metadata": {
    "executionInfo": {
     "elapsed": 52,
     "status": "ok",
     "timestamp": 1675615336824,
     "user": {
      "displayName": "Abhishek Nishad",
      "userId": "16216419476032732244"
     },
     "user_tz": -330
    },
    "id": "_WR8XDDR1XzU"
   },
   "outputs": [],
   "source": [
    "rate_movie=movie_rating_df.groupby('movie_name')['ratings'].mean().to_frame()"
   ]
  },
  {
   "cell_type": "code",
   "execution_count": 26,
   "metadata": {
    "colab": {
     "base_uri": "https://localhost:8080/",
     "height": 551
    },
    "executionInfo": {
     "elapsed": 51,
     "status": "ok",
     "timestamp": 1675615336824,
     "user": {
      "displayName": "Abhishek Nishad",
      "userId": "16216419476032732244"
     },
     "user_tz": -330
    },
    "id": "FB2CIZ9x6B7D",
    "outputId": "e5234e1d-3184-4dc6-c924-4c9b98f2feb2"
   },
   "outputs": [
    {
     "data": {
      "text/html": [
       "<div>\n",
       "<style scoped>\n",
       "    .dataframe tbody tr th:only-of-type {\n",
       "        vertical-align: middle;\n",
       "    }\n",
       "\n",
       "    .dataframe tbody tr th {\n",
       "        vertical-align: top;\n",
       "    }\n",
       "\n",
       "    .dataframe thead th {\n",
       "        text-align: right;\n",
       "    }\n",
       "</style>\n",
       "<table border=\"1\" class=\"dataframe\">\n",
       "  <thead>\n",
       "    <tr style=\"text-align: right;\">\n",
       "      <th></th>\n",
       "      <th>ratings</th>\n",
       "    </tr>\n",
       "    <tr>\n",
       "      <th>movie_name</th>\n",
       "      <th></th>\n",
       "    </tr>\n",
       "  </thead>\n",
       "  <tbody>\n",
       "    <tr>\n",
       "      <th>$1,000,000 Duck (1971)</th>\n",
       "      <td>3.027027</td>\n",
       "    </tr>\n",
       "    <tr>\n",
       "      <th>'Night Mother (1986)</th>\n",
       "      <td>3.371429</td>\n",
       "    </tr>\n",
       "    <tr>\n",
       "      <th>'Til There Was You (1997)</th>\n",
       "      <td>2.692308</td>\n",
       "    </tr>\n",
       "    <tr>\n",
       "      <th>'burbs, The (1989)</th>\n",
       "      <td>2.910891</td>\n",
       "    </tr>\n",
       "    <tr>\n",
       "      <th>...And Justice for All (1979)</th>\n",
       "      <td>3.713568</td>\n",
       "    </tr>\n",
       "    <tr>\n",
       "      <th>1-900 (1994)</th>\n",
       "      <td>2.500000</td>\n",
       "    </tr>\n",
       "    <tr>\n",
       "      <th>10 Things I Hate About You (1999)</th>\n",
       "      <td>3.422857</td>\n",
       "    </tr>\n",
       "    <tr>\n",
       "      <th>101 Dalmatians (1961)</th>\n",
       "      <td>3.596460</td>\n",
       "    </tr>\n",
       "    <tr>\n",
       "      <th>101 Dalmatians (1996)</th>\n",
       "      <td>3.046703</td>\n",
       "    </tr>\n",
       "    <tr>\n",
       "      <th>12 Angry Men (1957)</th>\n",
       "      <td>4.295455</td>\n",
       "    </tr>\n",
       "    <tr>\n",
       "      <th>13th Warrior, The (1999)</th>\n",
       "      <td>3.158667</td>\n",
       "    </tr>\n",
       "    <tr>\n",
       "      <th>187 (1997)</th>\n",
       "      <td>2.745455</td>\n",
       "    </tr>\n",
       "    <tr>\n",
       "      <th>2 Days in the Valley (1996)</th>\n",
       "      <td>3.283217</td>\n",
       "    </tr>\n",
       "    <tr>\n",
       "      <th>20 Dates (1998)</th>\n",
       "      <td>2.856115</td>\n",
       "    </tr>\n",
       "    <tr>\n",
       "      <th>20,000 Leagues Under the Sea (1954)</th>\n",
       "      <td>3.702609</td>\n",
       "    </tr>\n",
       "  </tbody>\n",
       "</table>\n",
       "</div>"
      ],
      "text/plain": [
       "                                      ratings\n",
       "movie_name                                   \n",
       "$1,000,000 Duck (1971)               3.027027\n",
       "'Night Mother (1986)                 3.371429\n",
       "'Til There Was You (1997)            2.692308\n",
       "'burbs, The (1989)                   2.910891\n",
       "...And Justice for All (1979)        3.713568\n",
       "1-900 (1994)                         2.500000\n",
       "10 Things I Hate About You (1999)    3.422857\n",
       "101 Dalmatians (1961)                3.596460\n",
       "101 Dalmatians (1996)                3.046703\n",
       "12 Angry Men (1957)                  4.295455\n",
       "13th Warrior, The (1999)             3.158667\n",
       "187 (1997)                           2.745455\n",
       "2 Days in the Valley (1996)          3.283217\n",
       "20 Dates (1998)                      2.856115\n",
       "20,000 Leagues Under the Sea (1954)  3.702609"
      ]
     },
     "execution_count": 26,
     "metadata": {},
     "output_type": "execute_result"
    }
   ],
   "source": [
    "rate_movie.head(15)"
   ]
  },
  {
   "cell_type": "code",
   "execution_count": 27,
   "metadata": {
    "executionInfo": {
     "elapsed": 839,
     "status": "ok",
     "timestamp": 1675615337614,
     "user": {
      "displayName": "Abhishek Nishad",
      "userId": "16216419476032732244"
     },
     "user_tz": -330
    },
    "id": "ymHR0WJj6Gdd"
   },
   "outputs": [],
   "source": [
    "rate_movie['no_of_ratings']=movie_rating_df.groupby('movie_name')['ratings'].count().to_frame()"
   ]
  },
  {
   "cell_type": "code",
   "execution_count": 28,
   "metadata": {
    "colab": {
     "base_uri": "https://localhost:8080/",
     "height": 237
    },
    "executionInfo": {
     "elapsed": 69,
     "status": "ok",
     "timestamp": 1675615337618,
     "user": {
      "displayName": "Abhishek Nishad",
      "userId": "16216419476032732244"
     },
     "user_tz": -330
    },
    "id": "OqD2f_Hk10lC",
    "outputId": "210db7e4-eea2-4146-e46a-611c61a27d3f"
   },
   "outputs": [
    {
     "data": {
      "text/html": [
       "<div>\n",
       "<style scoped>\n",
       "    .dataframe tbody tr th:only-of-type {\n",
       "        vertical-align: middle;\n",
       "    }\n",
       "\n",
       "    .dataframe tbody tr th {\n",
       "        vertical-align: top;\n",
       "    }\n",
       "\n",
       "    .dataframe thead th {\n",
       "        text-align: right;\n",
       "    }\n",
       "</style>\n",
       "<table border=\"1\" class=\"dataframe\">\n",
       "  <thead>\n",
       "    <tr style=\"text-align: right;\">\n",
       "      <th></th>\n",
       "      <th>ratings</th>\n",
       "      <th>no_of_ratings</th>\n",
       "    </tr>\n",
       "    <tr>\n",
       "      <th>movie_name</th>\n",
       "      <th></th>\n",
       "      <th></th>\n",
       "    </tr>\n",
       "  </thead>\n",
       "  <tbody>\n",
       "    <tr>\n",
       "      <th>$1,000,000 Duck (1971)</th>\n",
       "      <td>3.027027</td>\n",
       "      <td>37</td>\n",
       "    </tr>\n",
       "    <tr>\n",
       "      <th>'Night Mother (1986)</th>\n",
       "      <td>3.371429</td>\n",
       "      <td>70</td>\n",
       "    </tr>\n",
       "    <tr>\n",
       "      <th>'Til There Was You (1997)</th>\n",
       "      <td>2.692308</td>\n",
       "      <td>52</td>\n",
       "    </tr>\n",
       "    <tr>\n",
       "      <th>'burbs, The (1989)</th>\n",
       "      <td>2.910891</td>\n",
       "      <td>303</td>\n",
       "    </tr>\n",
       "    <tr>\n",
       "      <th>...And Justice for All (1979)</th>\n",
       "      <td>3.713568</td>\n",
       "      <td>199</td>\n",
       "    </tr>\n",
       "  </tbody>\n",
       "</table>\n",
       "</div>"
      ],
      "text/plain": [
       "                                ratings  no_of_ratings\n",
       "movie_name                                            \n",
       "$1,000,000 Duck (1971)         3.027027             37\n",
       "'Night Mother (1986)           3.371429             70\n",
       "'Til There Was You (1997)      2.692308             52\n",
       "'burbs, The (1989)             2.910891            303\n",
       "...And Justice for All (1979)  3.713568            199"
      ]
     },
     "execution_count": 28,
     "metadata": {},
     "output_type": "execute_result"
    }
   ],
   "source": [
    "rate_movie.head()"
   ]
  },
  {
   "cell_type": "code",
   "execution_count": 29,
   "metadata": {
    "colab": {
     "base_uri": "https://localhost:8080/"
    },
    "executionInfo": {
     "elapsed": 68,
     "status": "ok",
     "timestamp": 1675615337619,
     "user": {
      "displayName": "Abhishek Nishad",
      "userId": "16216419476032732244"
     },
     "user_tz": -330
    },
    "id": "hKP4ubCo7KuZ",
    "outputId": "3e48fdfa-26ff-4bdd-f935-ddf7c60b7dc8"
   },
   "outputs": [
    {
     "data": {
      "text/plain": [
       "(3706, 2)"
      ]
     },
     "execution_count": 29,
     "metadata": {},
     "output_type": "execute_result"
    }
   ],
   "source": [
    "rate_movie.shape"
   ]
  },
  {
   "cell_type": "code",
   "execution_count": 30,
   "metadata": {},
   "outputs": [],
   "source": [
    "## Filtering only those movies where at least 50 number of times it has been rated to avoid misleading data"
   ]
  },
  {
   "cell_type": "code",
   "execution_count": 31,
   "metadata": {
    "executionInfo": {
     "elapsed": 65,
     "status": "ok",
     "timestamp": 1675615337621,
     "user": {
      "displayName": "Abhishek Nishad",
      "userId": "16216419476032732244"
     },
     "user_tz": -330
    },
    "id": "x7kECrBs5Xmv"
   },
   "outputs": [],
   "source": [
    "rate_movie=rate_movie[rate_movie['no_of_ratings']>50]"
   ]
  },
  {
   "cell_type": "code",
   "execution_count": 32,
   "metadata": {
    "colab": {
     "base_uri": "https://localhost:8080/"
    },
    "executionInfo": {
     "elapsed": 65,
     "status": "ok",
     "timestamp": 1675615337622,
     "user": {
      "displayName": "Abhishek Nishad",
      "userId": "16216419476032732244"
     },
     "user_tz": -330
    },
    "id": "EmqDsbG_7SgD",
    "outputId": "d53e1393-a6d0-40ad-9664-7822e97502a3"
   },
   "outputs": [
    {
     "data": {
      "text/plain": [
       "(2499, 2)"
      ]
     },
     "execution_count": 32,
     "metadata": {},
     "output_type": "execute_result"
    }
   ],
   "source": [
    "rate_movie.shape"
   ]
  },
  {
   "cell_type": "code",
   "execution_count": 33,
   "metadata": {
    "colab": {
     "base_uri": "https://localhost:8080/",
     "height": 455
    },
    "executionInfo": {
     "elapsed": 81,
     "status": "ok",
     "timestamp": 1675615337641,
     "user": {
      "displayName": "Abhishek Nishad",
      "userId": "16216419476032732244"
     },
     "user_tz": -330
    },
    "id": "4PH7rP8U2MVC",
    "outputId": "8bc51588-9ef8-4ce4-bc13-641f9c007fed"
   },
   "outputs": [
    {
     "data": {
      "text/html": [
       "<div>\n",
       "<style scoped>\n",
       "    .dataframe tbody tr th:only-of-type {\n",
       "        vertical-align: middle;\n",
       "    }\n",
       "\n",
       "    .dataframe tbody tr th {\n",
       "        vertical-align: top;\n",
       "    }\n",
       "\n",
       "    .dataframe thead th {\n",
       "        text-align: right;\n",
       "    }\n",
       "</style>\n",
       "<table border=\"1\" class=\"dataframe\">\n",
       "  <thead>\n",
       "    <tr style=\"text-align: right;\">\n",
       "      <th></th>\n",
       "      <th>ratings</th>\n",
       "      <th>no_of_ratings</th>\n",
       "    </tr>\n",
       "    <tr>\n",
       "      <th>movie_name</th>\n",
       "      <th></th>\n",
       "      <th></th>\n",
       "    </tr>\n",
       "  </thead>\n",
       "  <tbody>\n",
       "    <tr>\n",
       "      <th>American Beauty (1999)</th>\n",
       "      <td>4.317386</td>\n",
       "      <td>3428</td>\n",
       "    </tr>\n",
       "    <tr>\n",
       "      <th>Star Wars: Episode IV - A New Hope (1977)</th>\n",
       "      <td>4.453694</td>\n",
       "      <td>2991</td>\n",
       "    </tr>\n",
       "    <tr>\n",
       "      <th>Star Wars: Episode V - The Empire Strikes Back (1980)</th>\n",
       "      <td>4.292977</td>\n",
       "      <td>2990</td>\n",
       "    </tr>\n",
       "    <tr>\n",
       "      <th>Star Wars: Episode VI - Return of the Jedi (1983)</th>\n",
       "      <td>4.022893</td>\n",
       "      <td>2883</td>\n",
       "    </tr>\n",
       "    <tr>\n",
       "      <th>Jurassic Park (1993)</th>\n",
       "      <td>3.763847</td>\n",
       "      <td>2672</td>\n",
       "    </tr>\n",
       "    <tr>\n",
       "      <th>...</th>\n",
       "      <td>...</td>\n",
       "      <td>...</td>\n",
       "    </tr>\n",
       "    <tr>\n",
       "      <th>Last Night (1998)</th>\n",
       "      <td>3.725490</td>\n",
       "      <td>51</td>\n",
       "    </tr>\n",
       "    <tr>\n",
       "      <th>Wild Reeds (1994)</th>\n",
       "      <td>3.431373</td>\n",
       "      <td>51</td>\n",
       "    </tr>\n",
       "    <tr>\n",
       "      <th>Four Days in September (1997)</th>\n",
       "      <td>3.980392</td>\n",
       "      <td>51</td>\n",
       "    </tr>\n",
       "    <tr>\n",
       "      <th>Angel and the Badman (1947)</th>\n",
       "      <td>3.392157</td>\n",
       "      <td>51</td>\n",
       "    </tr>\n",
       "    <tr>\n",
       "      <th>Celtic Pride (1996)</th>\n",
       "      <td>2.333333</td>\n",
       "      <td>51</td>\n",
       "    </tr>\n",
       "  </tbody>\n",
       "</table>\n",
       "<p>2499 rows × 2 columns</p>\n",
       "</div>"
      ],
      "text/plain": [
       "                                                     ratings  no_of_ratings\n",
       "movie_name                                                                 \n",
       "American Beauty (1999)                              4.317386           3428\n",
       "Star Wars: Episode IV - A New Hope (1977)           4.453694           2991\n",
       "Star Wars: Episode V - The Empire Strikes Back ...  4.292977           2990\n",
       "Star Wars: Episode VI - Return of the Jedi (1983)   4.022893           2883\n",
       "Jurassic Park (1993)                                3.763847           2672\n",
       "...                                                      ...            ...\n",
       "Last Night (1998)                                   3.725490             51\n",
       "Wild Reeds (1994)                                   3.431373             51\n",
       "Four Days in September (1997)                       3.980392             51\n",
       "Angel and the Badman (1947)                         3.392157             51\n",
       "Celtic Pride (1996)                                 2.333333             51\n",
       "\n",
       "[2499 rows x 2 columns]"
      ]
     },
     "execution_count": 33,
     "metadata": {},
     "output_type": "execute_result"
    }
   ],
   "source": [
    "rate_movie.sort_values('no_of_ratings',ascending=False)"
   ]
  },
  {
   "cell_type": "code",
   "execution_count": 34,
   "metadata": {
    "executionInfo": {
     "elapsed": 80,
     "status": "ok",
     "timestamp": 1675615337643,
     "user": {
      "displayName": "Abhishek Nishad",
      "userId": "16216419476032732244"
     },
     "user_tz": -330
    },
    "id": "PQQplS003cDB"
   },
   "outputs": [],
   "source": [
    "## Creating User Id interaction Matrix"
   ]
  },
  {
   "cell_type": "code",
   "execution_count": 35,
   "metadata": {
    "colab": {
     "base_uri": "https://localhost:8080/",
     "height": 206
    },
    "executionInfo": {
     "elapsed": 86,
     "status": "ok",
     "timestamp": 1675615337649,
     "user": {
      "displayName": "Abhishek Nishad",
      "userId": "16216419476032732244"
     },
     "user_tz": -330
    },
    "id": "lWgWfLIn8Lnu",
    "outputId": "3025ce94-2323-4bc3-88ab-bac54bcd2764"
   },
   "outputs": [
    {
     "data": {
      "text/html": [
       "<div>\n",
       "<style scoped>\n",
       "    .dataframe tbody tr th:only-of-type {\n",
       "        vertical-align: middle;\n",
       "    }\n",
       "\n",
       "    .dataframe tbody tr th {\n",
       "        vertical-align: top;\n",
       "    }\n",
       "\n",
       "    .dataframe thead th {\n",
       "        text-align: right;\n",
       "    }\n",
       "</style>\n",
       "<table border=\"1\" class=\"dataframe\">\n",
       "  <thead>\n",
       "    <tr style=\"text-align: right;\">\n",
       "      <th></th>\n",
       "      <th>movie_id</th>\n",
       "      <th>movie_name</th>\n",
       "      <th>user_id</th>\n",
       "      <th>ratings</th>\n",
       "    </tr>\n",
       "  </thead>\n",
       "  <tbody>\n",
       "    <tr>\n",
       "      <th>0</th>\n",
       "      <td>1</td>\n",
       "      <td>Toy Story (1995)</td>\n",
       "      <td>1</td>\n",
       "      <td>5</td>\n",
       "    </tr>\n",
       "    <tr>\n",
       "      <th>1</th>\n",
       "      <td>1</td>\n",
       "      <td>Toy Story (1995)</td>\n",
       "      <td>6</td>\n",
       "      <td>4</td>\n",
       "    </tr>\n",
       "    <tr>\n",
       "      <th>2</th>\n",
       "      <td>1</td>\n",
       "      <td>Toy Story (1995)</td>\n",
       "      <td>8</td>\n",
       "      <td>4</td>\n",
       "    </tr>\n",
       "    <tr>\n",
       "      <th>3</th>\n",
       "      <td>1</td>\n",
       "      <td>Toy Story (1995)</td>\n",
       "      <td>9</td>\n",
       "      <td>5</td>\n",
       "    </tr>\n",
       "    <tr>\n",
       "      <th>4</th>\n",
       "      <td>1</td>\n",
       "      <td>Toy Story (1995)</td>\n",
       "      <td>10</td>\n",
       "      <td>5</td>\n",
       "    </tr>\n",
       "  </tbody>\n",
       "</table>\n",
       "</div>"
      ],
      "text/plain": [
       "   movie_id        movie_name  user_id  ratings\n",
       "0         1  Toy Story (1995)        1        5\n",
       "1         1  Toy Story (1995)        6        4\n",
       "2         1  Toy Story (1995)        8        4\n",
       "3         1  Toy Story (1995)        9        5\n",
       "4         1  Toy Story (1995)       10        5"
      ]
     },
     "execution_count": 35,
     "metadata": {},
     "output_type": "execute_result"
    }
   ],
   "source": [
    "movie_rating_df.head()"
   ]
  },
  {
   "cell_type": "code",
   "execution_count": 36,
   "metadata": {
    "executionInfo": {
     "elapsed": 2088,
     "status": "ok",
     "timestamp": 1675615339654,
     "user": {
      "displayName": "Abhishek Nishad",
      "userId": "16216419476032732244"
     },
     "user_tz": -330
    },
    "id": "eVSE0Ohh5Fa4"
   },
   "outputs": [],
   "source": [
    "movie_matrix_UII=movie_rating_df.pivot_table(index='user_id',columns='movie_name',values='ratings')"
   ]
  },
  {
   "cell_type": "code",
   "execution_count": 37,
   "metadata": {
    "colab": {
     "base_uri": "https://localhost:8080/",
     "height": 418
    },
    "executionInfo": {
     "elapsed": 36,
     "status": "ok",
     "timestamp": 1675615339656,
     "user": {
      "displayName": "Abhishek Nishad",
      "userId": "16216419476032732244"
     },
     "user_tz": -330
    },
    "id": "vurLZDPA8eta",
    "outputId": "253dd7b6-fa21-4487-a773-c1068123a718"
   },
   "outputs": [
    {
     "data": {
      "text/html": [
       "<div>\n",
       "<style scoped>\n",
       "    .dataframe tbody tr th:only-of-type {\n",
       "        vertical-align: middle;\n",
       "    }\n",
       "\n",
       "    .dataframe tbody tr th {\n",
       "        vertical-align: top;\n",
       "    }\n",
       "\n",
       "    .dataframe thead th {\n",
       "        text-align: right;\n",
       "    }\n",
       "</style>\n",
       "<table border=\"1\" class=\"dataframe\">\n",
       "  <thead>\n",
       "    <tr style=\"text-align: right;\">\n",
       "      <th>movie_name</th>\n",
       "      <th>$1,000,000 Duck (1971)</th>\n",
       "      <th>'Night Mother (1986)</th>\n",
       "      <th>'Til There Was You (1997)</th>\n",
       "      <th>'burbs, The (1989)</th>\n",
       "      <th>...And Justice for All (1979)</th>\n",
       "      <th>1-900 (1994)</th>\n",
       "      <th>10 Things I Hate About You (1999)</th>\n",
       "      <th>101 Dalmatians (1961)</th>\n",
       "      <th>101 Dalmatians (1996)</th>\n",
       "      <th>12 Angry Men (1957)</th>\n",
       "      <th>...</th>\n",
       "      <th>Young Poisoner's Handbook, The (1995)</th>\n",
       "      <th>Young Sherlock Holmes (1985)</th>\n",
       "      <th>Young and Innocent (1937)</th>\n",
       "      <th>Your Friends and Neighbors (1998)</th>\n",
       "      <th>Zachariah (1971)</th>\n",
       "      <th>Zed &amp; Two Noughts, A (1985)</th>\n",
       "      <th>Zero Effect (1998)</th>\n",
       "      <th>Zero Kelvin (Kjærlighetens kjøtere) (1995)</th>\n",
       "      <th>Zeus and Roxanne (1997)</th>\n",
       "      <th>eXistenZ (1999)</th>\n",
       "    </tr>\n",
       "    <tr>\n",
       "      <th>user_id</th>\n",
       "      <th></th>\n",
       "      <th></th>\n",
       "      <th></th>\n",
       "      <th></th>\n",
       "      <th></th>\n",
       "      <th></th>\n",
       "      <th></th>\n",
       "      <th></th>\n",
       "      <th></th>\n",
       "      <th></th>\n",
       "      <th></th>\n",
       "      <th></th>\n",
       "      <th></th>\n",
       "      <th></th>\n",
       "      <th></th>\n",
       "      <th></th>\n",
       "      <th></th>\n",
       "      <th></th>\n",
       "      <th></th>\n",
       "      <th></th>\n",
       "      <th></th>\n",
       "    </tr>\n",
       "  </thead>\n",
       "  <tbody>\n",
       "    <tr>\n",
       "      <th>1</th>\n",
       "      <td>NaN</td>\n",
       "      <td>NaN</td>\n",
       "      <td>NaN</td>\n",
       "      <td>NaN</td>\n",
       "      <td>NaN</td>\n",
       "      <td>NaN</td>\n",
       "      <td>NaN</td>\n",
       "      <td>NaN</td>\n",
       "      <td>NaN</td>\n",
       "      <td>NaN</td>\n",
       "      <td>...</td>\n",
       "      <td>NaN</td>\n",
       "      <td>NaN</td>\n",
       "      <td>NaN</td>\n",
       "      <td>NaN</td>\n",
       "      <td>NaN</td>\n",
       "      <td>NaN</td>\n",
       "      <td>NaN</td>\n",
       "      <td>NaN</td>\n",
       "      <td>NaN</td>\n",
       "      <td>NaN</td>\n",
       "    </tr>\n",
       "    <tr>\n",
       "      <th>2</th>\n",
       "      <td>NaN</td>\n",
       "      <td>NaN</td>\n",
       "      <td>NaN</td>\n",
       "      <td>NaN</td>\n",
       "      <td>NaN</td>\n",
       "      <td>NaN</td>\n",
       "      <td>NaN</td>\n",
       "      <td>NaN</td>\n",
       "      <td>NaN</td>\n",
       "      <td>NaN</td>\n",
       "      <td>...</td>\n",
       "      <td>NaN</td>\n",
       "      <td>NaN</td>\n",
       "      <td>NaN</td>\n",
       "      <td>NaN</td>\n",
       "      <td>NaN</td>\n",
       "      <td>NaN</td>\n",
       "      <td>NaN</td>\n",
       "      <td>NaN</td>\n",
       "      <td>NaN</td>\n",
       "      <td>NaN</td>\n",
       "    </tr>\n",
       "    <tr>\n",
       "      <th>3</th>\n",
       "      <td>NaN</td>\n",
       "      <td>NaN</td>\n",
       "      <td>NaN</td>\n",
       "      <td>NaN</td>\n",
       "      <td>NaN</td>\n",
       "      <td>NaN</td>\n",
       "      <td>NaN</td>\n",
       "      <td>NaN</td>\n",
       "      <td>NaN</td>\n",
       "      <td>NaN</td>\n",
       "      <td>...</td>\n",
       "      <td>NaN</td>\n",
       "      <td>NaN</td>\n",
       "      <td>NaN</td>\n",
       "      <td>NaN</td>\n",
       "      <td>NaN</td>\n",
       "      <td>NaN</td>\n",
       "      <td>NaN</td>\n",
       "      <td>NaN</td>\n",
       "      <td>NaN</td>\n",
       "      <td>NaN</td>\n",
       "    </tr>\n",
       "    <tr>\n",
       "      <th>4</th>\n",
       "      <td>NaN</td>\n",
       "      <td>NaN</td>\n",
       "      <td>NaN</td>\n",
       "      <td>NaN</td>\n",
       "      <td>NaN</td>\n",
       "      <td>NaN</td>\n",
       "      <td>NaN</td>\n",
       "      <td>NaN</td>\n",
       "      <td>NaN</td>\n",
       "      <td>NaN</td>\n",
       "      <td>...</td>\n",
       "      <td>NaN</td>\n",
       "      <td>NaN</td>\n",
       "      <td>NaN</td>\n",
       "      <td>NaN</td>\n",
       "      <td>NaN</td>\n",
       "      <td>NaN</td>\n",
       "      <td>NaN</td>\n",
       "      <td>NaN</td>\n",
       "      <td>NaN</td>\n",
       "      <td>NaN</td>\n",
       "    </tr>\n",
       "    <tr>\n",
       "      <th>5</th>\n",
       "      <td>NaN</td>\n",
       "      <td>NaN</td>\n",
       "      <td>NaN</td>\n",
       "      <td>NaN</td>\n",
       "      <td>NaN</td>\n",
       "      <td>NaN</td>\n",
       "      <td>NaN</td>\n",
       "      <td>NaN</td>\n",
       "      <td>NaN</td>\n",
       "      <td>NaN</td>\n",
       "      <td>...</td>\n",
       "      <td>NaN</td>\n",
       "      <td>NaN</td>\n",
       "      <td>NaN</td>\n",
       "      <td>NaN</td>\n",
       "      <td>NaN</td>\n",
       "      <td>NaN</td>\n",
       "      <td>NaN</td>\n",
       "      <td>NaN</td>\n",
       "      <td>NaN</td>\n",
       "      <td>NaN</td>\n",
       "    </tr>\n",
       "  </tbody>\n",
       "</table>\n",
       "<p>5 rows × 3706 columns</p>\n",
       "</div>"
      ],
      "text/plain": [
       "movie_name  $1,000,000 Duck (1971)  'Night Mother (1986)  \\\n",
       "user_id                                                    \n",
       "1                              NaN                   NaN   \n",
       "2                              NaN                   NaN   \n",
       "3                              NaN                   NaN   \n",
       "4                              NaN                   NaN   \n",
       "5                              NaN                   NaN   \n",
       "\n",
       "movie_name  'Til There Was You (1997)  'burbs, The (1989)  \\\n",
       "user_id                                                     \n",
       "1                                 NaN                 NaN   \n",
       "2                                 NaN                 NaN   \n",
       "3                                 NaN                 NaN   \n",
       "4                                 NaN                 NaN   \n",
       "5                                 NaN                 NaN   \n",
       "\n",
       "movie_name  ...And Justice for All (1979)  1-900 (1994)  \\\n",
       "user_id                                                   \n",
       "1                                     NaN           NaN   \n",
       "2                                     NaN           NaN   \n",
       "3                                     NaN           NaN   \n",
       "4                                     NaN           NaN   \n",
       "5                                     NaN           NaN   \n",
       "\n",
       "movie_name  10 Things I Hate About You (1999)  101 Dalmatians (1961)  \\\n",
       "user_id                                                                \n",
       "1                                         NaN                    NaN   \n",
       "2                                         NaN                    NaN   \n",
       "3                                         NaN                    NaN   \n",
       "4                                         NaN                    NaN   \n",
       "5                                         NaN                    NaN   \n",
       "\n",
       "movie_name  101 Dalmatians (1996)  12 Angry Men (1957)  ...  \\\n",
       "user_id                                                 ...   \n",
       "1                             NaN                  NaN  ...   \n",
       "2                             NaN                  NaN  ...   \n",
       "3                             NaN                  NaN  ...   \n",
       "4                             NaN                  NaN  ...   \n",
       "5                             NaN                  NaN  ...   \n",
       "\n",
       "movie_name  Young Poisoner's Handbook, The (1995)  \\\n",
       "user_id                                             \n",
       "1                                             NaN   \n",
       "2                                             NaN   \n",
       "3                                             NaN   \n",
       "4                                             NaN   \n",
       "5                                             NaN   \n",
       "\n",
       "movie_name  Young Sherlock Holmes (1985)  Young and Innocent (1937)  \\\n",
       "user_id                                                               \n",
       "1                                    NaN                        NaN   \n",
       "2                                    NaN                        NaN   \n",
       "3                                    NaN                        NaN   \n",
       "4                                    NaN                        NaN   \n",
       "5                                    NaN                        NaN   \n",
       "\n",
       "movie_name  Your Friends and Neighbors (1998)  Zachariah (1971)  \\\n",
       "user_id                                                           \n",
       "1                                         NaN               NaN   \n",
       "2                                         NaN               NaN   \n",
       "3                                         NaN               NaN   \n",
       "4                                         NaN               NaN   \n",
       "5                                         NaN               NaN   \n",
       "\n",
       "movie_name  Zed & Two Noughts, A (1985)  Zero Effect (1998)  \\\n",
       "user_id                                                       \n",
       "1                                   NaN                 NaN   \n",
       "2                                   NaN                 NaN   \n",
       "3                                   NaN                 NaN   \n",
       "4                                   NaN                 NaN   \n",
       "5                                   NaN                 NaN   \n",
       "\n",
       "movie_name  Zero Kelvin (Kjærlighetens kjøtere) (1995)  \\\n",
       "user_id                                                  \n",
       "1                                                  NaN   \n",
       "2                                                  NaN   \n",
       "3                                                  NaN   \n",
       "4                                                  NaN   \n",
       "5                                                  NaN   \n",
       "\n",
       "movie_name  Zeus and Roxanne (1997)  eXistenZ (1999)  \n",
       "user_id                                               \n",
       "1                               NaN              NaN  \n",
       "2                               NaN              NaN  \n",
       "3                               NaN              NaN  \n",
       "4                               NaN              NaN  \n",
       "5                               NaN              NaN  \n",
       "\n",
       "[5 rows x 3706 columns]"
      ]
     },
     "execution_count": 37,
     "metadata": {},
     "output_type": "execute_result"
    }
   ],
   "source": [
    "movie_matrix_UII.head()"
   ]
  },
  {
   "cell_type": "code",
   "execution_count": 38,
   "metadata": {
    "executionInfo": {
     "elapsed": 33,
     "status": "ok",
     "timestamp": 1675615339657,
     "user": {
      "displayName": "Abhishek Nishad",
      "userId": "16216419476032732244"
     },
     "user_tz": -330
    },
    "id": "lhNQ_rdI8heA"
   },
   "outputs": [],
   "source": [
    "## Fetch recommendation"
   ]
  },
  {
   "cell_type": "code",
   "execution_count": 39,
   "metadata": {
    "executionInfo": {
     "elapsed": 33,
     "status": "ok",
     "timestamp": 1675615339659,
     "user": {
      "displayName": "Abhishek Nishad",
      "userId": "16216419476032732244"
     },
     "user_tz": -330
    },
    "id": "LTHthS818owK"
   },
   "outputs": [],
   "source": [
    "American_Beauty_rating=movie_matrix_UII[\"American Beauty (1999)\"]"
   ]
  },
  {
   "cell_type": "code",
   "execution_count": 40,
   "metadata": {
    "executionInfo": {
     "elapsed": 33,
     "status": "ok",
     "timestamp": 1675615339660,
     "user": {
      "displayName": "Abhishek Nishad",
      "userId": "16216419476032732244"
     },
     "user_tz": -330
    },
    "id": "U_dYj8mV9EZM"
   },
   "outputs": [],
   "source": [
    "## Finding Similar with American Beauty"
   ]
  },
  {
   "cell_type": "code",
   "execution_count": 41,
   "metadata": {
    "executionInfo": {
     "elapsed": 2802,
     "status": "ok",
     "timestamp": 1675615342431,
     "user": {
      "displayName": "Abhishek Nishad",
      "userId": "16216419476032732244"
     },
     "user_tz": -330
    },
    "id": "P2p2wGJq9kGb"
   },
   "outputs": [],
   "source": [
    "similar_to_american_beauty=movie_matrix_UII.corrwith(American_Beauty_rating)"
   ]
  },
  {
   "cell_type": "code",
   "execution_count": 42,
   "metadata": {
    "executionInfo": {
     "elapsed": 102,
     "status": "ok",
     "timestamp": 1675615342439,
     "user": {
      "displayName": "Abhishek Nishad",
      "userId": "16216419476032732244"
     },
     "user_tz": -330
    },
    "id": "n-f99ZIA9vEL"
   },
   "outputs": [],
   "source": [
    "similar_to_american_beauty=pd.DataFrame(similar_to_american_beauty,columns=['correlation'])"
   ]
  },
  {
   "cell_type": "code",
   "execution_count": 43,
   "metadata": {
    "colab": {
     "base_uri": "https://localhost:8080/",
     "height": 237
    },
    "executionInfo": {
     "elapsed": 99,
     "status": "ok",
     "timestamp": 1675615342440,
     "user": {
      "displayName": "Abhishek Nishad",
      "userId": "16216419476032732244"
     },
     "user_tz": -330
    },
    "id": "Lt5uQAVb9x_7",
    "outputId": "59df7c12-a3cd-4370-a5c1-0c445ff345c0"
   },
   "outputs": [
    {
     "data": {
      "text/html": [
       "<div>\n",
       "<style scoped>\n",
       "    .dataframe tbody tr th:only-of-type {\n",
       "        vertical-align: middle;\n",
       "    }\n",
       "\n",
       "    .dataframe tbody tr th {\n",
       "        vertical-align: top;\n",
       "    }\n",
       "\n",
       "    .dataframe thead th {\n",
       "        text-align: right;\n",
       "    }\n",
       "</style>\n",
       "<table border=\"1\" class=\"dataframe\">\n",
       "  <thead>\n",
       "    <tr style=\"text-align: right;\">\n",
       "      <th></th>\n",
       "      <th>correlation</th>\n",
       "    </tr>\n",
       "    <tr>\n",
       "      <th>movie_name</th>\n",
       "      <th></th>\n",
       "    </tr>\n",
       "  </thead>\n",
       "  <tbody>\n",
       "    <tr>\n",
       "      <th>$1,000,000 Duck (1971)</th>\n",
       "      <td>-0.193080</td>\n",
       "    </tr>\n",
       "    <tr>\n",
       "      <th>'Night Mother (1986)</th>\n",
       "      <td>0.318625</td>\n",
       "    </tr>\n",
       "    <tr>\n",
       "      <th>'Til There Was You (1997)</th>\n",
       "      <td>0.064574</td>\n",
       "    </tr>\n",
       "    <tr>\n",
       "      <th>'burbs, The (1989)</th>\n",
       "      <td>0.142070</td>\n",
       "    </tr>\n",
       "    <tr>\n",
       "      <th>...And Justice for All (1979)</th>\n",
       "      <td>0.182361</td>\n",
       "    </tr>\n",
       "  </tbody>\n",
       "</table>\n",
       "</div>"
      ],
      "text/plain": [
       "                               correlation\n",
       "movie_name                                \n",
       "$1,000,000 Duck (1971)           -0.193080\n",
       "'Night Mother (1986)              0.318625\n",
       "'Til There Was You (1997)         0.064574\n",
       "'burbs, The (1989)                0.142070\n",
       "...And Justice for All (1979)     0.182361"
      ]
     },
     "execution_count": 43,
     "metadata": {},
     "output_type": "execute_result"
    }
   ],
   "source": [
    "similar_to_american_beauty.head()"
   ]
  },
  {
   "cell_type": "code",
   "execution_count": 44,
   "metadata": {
    "executionInfo": {
     "elapsed": 95,
     "status": "ok",
     "timestamp": 1675615342441,
     "user": {
      "displayName": "Abhishek Nishad",
      "userId": "16216419476032732244"
     },
     "user_tz": -330
    },
    "id": "iR7tgpBB-RXP"
   },
   "outputs": [],
   "source": [
    "similar_to_american_beauty.dropna(inplace=True)"
   ]
  },
  {
   "cell_type": "code",
   "execution_count": 45,
   "metadata": {
    "executionInfo": {
     "elapsed": 96,
     "status": "ok",
     "timestamp": 1675615342443,
     "user": {
      "displayName": "Abhishek Nishad",
      "userId": "16216419476032732244"
     },
     "user_tz": -330
    },
    "id": "a78_9fCe-t-A"
   },
   "outputs": [],
   "source": [
    "similar_to_american_beauty.reset_index(inplace=True)\n"
   ]
  },
  {
   "cell_type": "code",
   "execution_count": 46,
   "metadata": {
    "colab": {
     "base_uri": "https://localhost:8080/",
     "height": 206
    },
    "executionInfo": {
     "elapsed": 96,
     "status": "ok",
     "timestamp": 1675615342444,
     "user": {
      "displayName": "Abhishek Nishad",
      "userId": "16216419476032732244"
     },
     "user_tz": -330
    },
    "id": "GPwJVs81_GpK",
    "outputId": "c32d73b0-2765-4ae3-c38e-fcb6c1748ff6"
   },
   "outputs": [
    {
     "data": {
      "text/html": [
       "<div>\n",
       "<style scoped>\n",
       "    .dataframe tbody tr th:only-of-type {\n",
       "        vertical-align: middle;\n",
       "    }\n",
       "\n",
       "    .dataframe tbody tr th {\n",
       "        vertical-align: top;\n",
       "    }\n",
       "\n",
       "    .dataframe thead th {\n",
       "        text-align: right;\n",
       "    }\n",
       "</style>\n",
       "<table border=\"1\" class=\"dataframe\">\n",
       "  <thead>\n",
       "    <tr style=\"text-align: right;\">\n",
       "      <th></th>\n",
       "      <th>movie_name</th>\n",
       "      <th>correlation</th>\n",
       "    </tr>\n",
       "  </thead>\n",
       "  <tbody>\n",
       "    <tr>\n",
       "      <th>0</th>\n",
       "      <td>$1,000,000 Duck (1971)</td>\n",
       "      <td>-0.193080</td>\n",
       "    </tr>\n",
       "    <tr>\n",
       "      <th>1</th>\n",
       "      <td>'Night Mother (1986)</td>\n",
       "      <td>0.318625</td>\n",
       "    </tr>\n",
       "    <tr>\n",
       "      <th>2</th>\n",
       "      <td>'Til There Was You (1997)</td>\n",
       "      <td>0.064574</td>\n",
       "    </tr>\n",
       "    <tr>\n",
       "      <th>3</th>\n",
       "      <td>'burbs, The (1989)</td>\n",
       "      <td>0.142070</td>\n",
       "    </tr>\n",
       "    <tr>\n",
       "      <th>4</th>\n",
       "      <td>...And Justice for All (1979)</td>\n",
       "      <td>0.182361</td>\n",
       "    </tr>\n",
       "  </tbody>\n",
       "</table>\n",
       "</div>"
      ],
      "text/plain": [
       "                      movie_name  correlation\n",
       "0         $1,000,000 Duck (1971)    -0.193080\n",
       "1           'Night Mother (1986)     0.318625\n",
       "2      'Til There Was You (1997)     0.064574\n",
       "3             'burbs, The (1989)     0.142070\n",
       "4  ...And Justice for All (1979)     0.182361"
      ]
     },
     "execution_count": 46,
     "metadata": {},
     "output_type": "execute_result"
    }
   ],
   "source": [
    "similar_to_american_beauty.head()"
   ]
  },
  {
   "cell_type": "code",
   "execution_count": 47,
   "metadata": {
    "colab": {
     "base_uri": "https://localhost:8080/"
    },
    "executionInfo": {
     "elapsed": 105,
     "status": "ok",
     "timestamp": 1675615342458,
     "user": {
      "displayName": "Abhishek Nishad",
      "userId": "16216419476032732244"
     },
     "user_tz": -330
    },
    "id": "nVMbB55tDx53",
    "outputId": "1d9d4214-b2e2-43a4-e060-4a4289327e39"
   },
   "outputs": [
    {
     "data": {
      "text/plain": [
       "movie_name      object\n",
       "correlation    float64\n",
       "dtype: object"
      ]
     },
     "execution_count": 47,
     "metadata": {},
     "output_type": "execute_result"
    }
   ],
   "source": [
    "similar_to_american_beauty.dtypes"
   ]
  },
  {
   "cell_type": "code",
   "execution_count": 48,
   "metadata": {
    "colab": {
     "base_uri": "https://localhost:8080/"
    },
    "executionInfo": {
     "elapsed": 97,
     "status": "ok",
     "timestamp": 1675615342459,
     "user": {
      "displayName": "Abhishek Nishad",
      "userId": "16216419476032732244"
     },
     "user_tz": -330
    },
    "id": "X3pWt04QD0fn",
    "outputId": "d2bd8d9e-c990-4aee-a339-eea003c9c1cc"
   },
   "outputs": [
    {
     "data": {
      "text/plain": [
       "movie_name     0\n",
       "correlation    0\n",
       "dtype: int64"
      ]
     },
     "execution_count": 48,
     "metadata": {},
     "output_type": "execute_result"
    }
   ],
   "source": [
    "similar_to_american_beauty.isnull().sum()"
   ]
  },
  {
   "cell_type": "code",
   "execution_count": 49,
   "metadata": {
    "executionInfo": {
     "elapsed": 91,
     "status": "ok",
     "timestamp": 1675615342460,
     "user": {
      "displayName": "Abhishek Nishad",
      "userId": "16216419476032732244"
     },
     "user_tz": -330
    },
    "id": "OHDpoYkcD35A"
   },
   "outputs": [],
   "source": [
    "similar_to_american_beauty['correlation']=pd.to_numeric(similar_to_american_beauty['correlation'])"
   ]
  },
  {
   "cell_type": "code",
   "execution_count": 50,
   "metadata": {
    "colab": {
     "base_uri": "https://localhost:8080/"
    },
    "executionInfo": {
     "elapsed": 92,
     "status": "ok",
     "timestamp": 1675615342462,
     "user": {
      "displayName": "Abhishek Nishad",
      "userId": "16216419476032732244"
     },
     "user_tz": -330
    },
    "id": "Lz1u6G8dEO_v",
    "outputId": "b015681b-9b06-4cd8-849d-ea592b75d1c0"
   },
   "outputs": [
    {
     "data": {
      "text/plain": [
       "movie_name      object\n",
       "correlation    float64\n",
       "dtype: object"
      ]
     },
     "execution_count": 50,
     "metadata": {},
     "output_type": "execute_result"
    }
   ],
   "source": [
    "similar_to_american_beauty.dtypes"
   ]
  },
  {
   "cell_type": "code",
   "execution_count": 51,
   "metadata": {
    "colab": {
     "base_uri": "https://localhost:8080/",
     "height": 423
    },
    "executionInfo": {
     "elapsed": 90,
     "status": "ok",
     "timestamp": 1675615342464,
     "user": {
      "displayName": "Abhishek Nishad",
      "userId": "16216419476032732244"
     },
     "user_tz": -330
    },
    "id": "D8zivlt2o61N",
    "outputId": "e878e31a-05b0-4701-83d6-13c54b0e8412"
   },
   "outputs": [
    {
     "data": {
      "text/html": [
       "<div>\n",
       "<style scoped>\n",
       "    .dataframe tbody tr th:only-of-type {\n",
       "        vertical-align: middle;\n",
       "    }\n",
       "\n",
       "    .dataframe tbody tr th {\n",
       "        vertical-align: top;\n",
       "    }\n",
       "\n",
       "    .dataframe thead th {\n",
       "        text-align: right;\n",
       "    }\n",
       "</style>\n",
       "<table border=\"1\" class=\"dataframe\">\n",
       "  <thead>\n",
       "    <tr style=\"text-align: right;\">\n",
       "      <th></th>\n",
       "      <th>movie_name</th>\n",
       "      <th>correlation</th>\n",
       "    </tr>\n",
       "  </thead>\n",
       "  <tbody>\n",
       "    <tr>\n",
       "      <th>1648</th>\n",
       "      <td>James Dean Story, The (1957)</td>\n",
       "      <td>1.0</td>\n",
       "    </tr>\n",
       "    <tr>\n",
       "      <th>2839</th>\n",
       "      <td>Six of a Kind (1934)</td>\n",
       "      <td>1.0</td>\n",
       "    </tr>\n",
       "    <tr>\n",
       "      <th>703</th>\n",
       "      <td>Conceiving Ada (1997)</td>\n",
       "      <td>1.0</td>\n",
       "    </tr>\n",
       "    <tr>\n",
       "      <th>1479</th>\n",
       "      <td>Home Page (1999)</td>\n",
       "      <td>1.0</td>\n",
       "    </tr>\n",
       "    <tr>\n",
       "      <th>548</th>\n",
       "      <td>Cabinet of Dr. Ramirez, The (1991)</td>\n",
       "      <td>1.0</td>\n",
       "    </tr>\n",
       "    <tr>\n",
       "      <th>...</th>\n",
       "      <td>...</td>\n",
       "      <td>...</td>\n",
       "    </tr>\n",
       "    <tr>\n",
       "      <th>562</th>\n",
       "      <td>Captives (1994)</td>\n",
       "      <td>-1.0</td>\n",
       "    </tr>\n",
       "    <tr>\n",
       "      <th>3237</th>\n",
       "      <td>Turn It Up (2000)</td>\n",
       "      <td>-1.0</td>\n",
       "    </tr>\n",
       "    <tr>\n",
       "      <th>3178</th>\n",
       "      <td>Tokyo Fist (1995)</td>\n",
       "      <td>-1.0</td>\n",
       "    </tr>\n",
       "    <tr>\n",
       "      <th>521</th>\n",
       "      <td>Brothers in Trouble (1995)</td>\n",
       "      <td>-1.0</td>\n",
       "    </tr>\n",
       "    <tr>\n",
       "      <th>867</th>\n",
       "      <td>Devil Girl From Mars (1954)</td>\n",
       "      <td>-1.0</td>\n",
       "    </tr>\n",
       "  </tbody>\n",
       "</table>\n",
       "<p>3475 rows × 2 columns</p>\n",
       "</div>"
      ],
      "text/plain": [
       "                              movie_name  correlation\n",
       "1648        James Dean Story, The (1957)          1.0\n",
       "2839                Six of a Kind (1934)          1.0\n",
       "703                Conceiving Ada (1997)          1.0\n",
       "1479                    Home Page (1999)          1.0\n",
       "548   Cabinet of Dr. Ramirez, The (1991)          1.0\n",
       "...                                  ...          ...\n",
       "562                      Captives (1994)         -1.0\n",
       "3237                   Turn It Up (2000)         -1.0\n",
       "3178                   Tokyo Fist (1995)         -1.0\n",
       "521           Brothers in Trouble (1995)         -1.0\n",
       "867          Devil Girl From Mars (1954)         -1.0\n",
       "\n",
       "[3475 rows x 2 columns]"
      ]
     },
     "execution_count": 51,
     "metadata": {},
     "output_type": "execute_result"
    }
   ],
   "source": [
    "similar_to_american_beauty.sort_values(by='correlation',ascending=False)"
   ]
  },
  {
   "cell_type": "code",
   "execution_count": 52,
   "metadata": {
    "executionInfo": {
     "elapsed": 100,
     "status": "ok",
     "timestamp": 1675615342476,
     "user": {
      "displayName": "Abhishek Nishad",
      "userId": "16216419476032732244"
     },
     "user_tz": -330
    },
    "id": "E-KP7YnapDYB"
   },
   "outputs": [
    {
     "data": {
      "text/html": [
       "<div>\n",
       "<style scoped>\n",
       "    .dataframe tbody tr th:only-of-type {\n",
       "        vertical-align: middle;\n",
       "    }\n",
       "\n",
       "    .dataframe tbody tr th {\n",
       "        vertical-align: top;\n",
       "    }\n",
       "\n",
       "    .dataframe thead th {\n",
       "        text-align: right;\n",
       "    }\n",
       "</style>\n",
       "<table border=\"1\" class=\"dataframe\">\n",
       "  <thead>\n",
       "    <tr style=\"text-align: right;\">\n",
       "      <th></th>\n",
       "      <th>movie_name</th>\n",
       "      <th>correlation</th>\n",
       "    </tr>\n",
       "  </thead>\n",
       "  <tbody>\n",
       "    <tr>\n",
       "      <th>1648</th>\n",
       "      <td>James Dean Story, The (1957)</td>\n",
       "      <td>1.0</td>\n",
       "    </tr>\n",
       "    <tr>\n",
       "      <th>2839</th>\n",
       "      <td>Six of a Kind (1934)</td>\n",
       "      <td>1.0</td>\n",
       "    </tr>\n",
       "    <tr>\n",
       "      <th>703</th>\n",
       "      <td>Conceiving Ada (1997)</td>\n",
       "      <td>1.0</td>\n",
       "    </tr>\n",
       "    <tr>\n",
       "      <th>1479</th>\n",
       "      <td>Home Page (1999)</td>\n",
       "      <td>1.0</td>\n",
       "    </tr>\n",
       "    <tr>\n",
       "      <th>548</th>\n",
       "      <td>Cabinet of Dr. Ramirez, The (1991)</td>\n",
       "      <td>1.0</td>\n",
       "    </tr>\n",
       "    <tr>\n",
       "      <th>2368</th>\n",
       "      <td>Paralyzing Fear: The Story of Polio in America...</td>\n",
       "      <td>1.0</td>\n",
       "    </tr>\n",
       "    <tr>\n",
       "      <th>1612</th>\n",
       "      <td>Intimate Relations (1996)</td>\n",
       "      <td>1.0</td>\n",
       "    </tr>\n",
       "    <tr>\n",
       "      <th>1574</th>\n",
       "      <td>In God's Hands (1998)</td>\n",
       "      <td>1.0</td>\n",
       "    </tr>\n",
       "    <tr>\n",
       "      <th>3304</th>\n",
       "      <td>Very Natural Thing, A (1974)</td>\n",
       "      <td>1.0</td>\n",
       "    </tr>\n",
       "    <tr>\n",
       "      <th>849</th>\n",
       "      <td>Defying Gravity (1997)</td>\n",
       "      <td>1.0</td>\n",
       "    </tr>\n",
       "  </tbody>\n",
       "</table>\n",
       "</div>"
      ],
      "text/plain": [
       "                                             movie_name  correlation\n",
       "1648                       James Dean Story, The (1957)          1.0\n",
       "2839                               Six of a Kind (1934)          1.0\n",
       "703                               Conceiving Ada (1997)          1.0\n",
       "1479                                   Home Page (1999)          1.0\n",
       "548                  Cabinet of Dr. Ramirez, The (1991)          1.0\n",
       "2368  Paralyzing Fear: The Story of Polio in America...          1.0\n",
       "1612                          Intimate Relations (1996)          1.0\n",
       "1574                              In God's Hands (1998)          1.0\n",
       "3304                       Very Natural Thing, A (1974)          1.0\n",
       "849                              Defying Gravity (1997)          1.0"
      ]
     },
     "execution_count": 52,
     "metadata": {},
     "output_type": "execute_result"
    }
   ],
   "source": [
    "similar_to_american_beauty.sort_values(by='correlation',ascending=False).head(10)"
   ]
  },
  {
   "cell_type": "markdown",
   "metadata": {},
   "source": [
    "### From Above we can find movies which are very similar to 'American Beauty (1999)' and recommend these to the user"
   ]
  },
  {
   "cell_type": "code",
   "execution_count": null,
   "metadata": {},
   "outputs": [],
   "source": []
  }
 ],
 "metadata": {
  "accelerator": "GPU",
  "colab": {
   "authorship_tag": "ABX9TyMIJEc5wiLb3yqwv/ng4ITW",
   "mount_file_id": "1TQZEV_ZjunrKPtdFvPcl2Yj8hyrP0FAh",
   "provenance": []
  },
  "gpuClass": "standard",
  "kernelspec": {
   "display_name": "Python 3 (ipykernel)",
   "language": "python",
   "name": "python3"
  },
  "language_info": {
   "codemirror_mode": {
    "name": "ipython",
    "version": 3
   },
   "file_extension": ".py",
   "mimetype": "text/x-python",
   "name": "python",
   "nbconvert_exporter": "python",
   "pygments_lexer": "ipython3",
   "version": "3.9.7"
  }
 },
 "nbformat": 4,
 "nbformat_minor": 1
}
